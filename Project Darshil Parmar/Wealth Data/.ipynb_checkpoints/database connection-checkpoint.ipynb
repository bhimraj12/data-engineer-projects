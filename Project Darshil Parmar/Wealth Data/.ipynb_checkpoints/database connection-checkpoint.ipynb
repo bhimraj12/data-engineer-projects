{
 "cells": [
  {
   "cell_type": "code",
   "execution_count": 1,
   "id": "9cad3c0e-7d20-42a0-8fba-4b7c17d987c9",
   "metadata": {},
   "outputs": [
    {
     "name": "stdout",
     "output_type": "stream",
     "text": [
      "Requirement already satisfied: psycopg2 in ./.config/jupyterlab-desktop/jlab_server/lib/python3.12/site-packages (2.9.9)\n",
      "Note: you may need to restart the kernel to use updated packages.\n"
     ]
    }
   ],
   "source": [
    "pip install psycopg2"
   ]
  },
  {
   "cell_type": "code",
   "execution_count": 2,
   "id": "b8d58441-edcc-4ea6-9004-5832d0ad9a7c",
   "metadata": {},
   "outputs": [],
   "source": [
    "import psycopg2"
   ]
  },
  {
   "cell_type": "code",
   "execution_count": 22,
   "id": "a7ef8aee-3fb2-4a29-a6a4-254dfaa9ae54",
   "metadata": {},
   "outputs": [],
   "source": [
    "try:\n",
    "    conn = psycopg2.connect(\"host=127.0.0.1 dbname=myfirstdb user=postgres password=password\")\n",
    "except psycopg2.Error as e:\n",
    "    print(\"Error: could not make connection to the postgres database\")\n",
    "    print(e)"
   ]
  },
  {
   "cell_type": "code",
   "execution_count": 23,
   "id": "b7d91a4d-7365-4242-aaf7-83bfe3fd2406",
   "metadata": {},
   "outputs": [],
   "source": [
    "try:\n",
    "    cur = conn.cursor()\n",
    "except psycopg2.Error as e:\n",
    "    print(\"Error: could not get curser to the database\")\n",
    "    print(e)"
   ]
  },
  {
   "cell_type": "code",
   "execution_count": 24,
   "id": "8e2ab252-5e62-4260-8e40-4ba3ecfefcad",
   "metadata": {},
   "outputs": [],
   "source": [
    "conn.set_session(autocommit=True)"
   ]
  },
  {
   "cell_type": "code",
   "execution_count": 25,
   "id": "df60b8a9-362b-4df5-a2f5-2c069909dfc0",
   "metadata": {},
   "outputs": [
    {
     "name": "stdout",
     "output_type": "stream",
     "text": [
      "database \"myfirstdb\" already exists\n",
      "\n"
     ]
    }
   ],
   "source": [
    "try:\n",
    "    cur.execute(\"create database myfirstdb\")\n",
    "except psycopg2.Error as e:\n",
    "    print(e)"
   ]
  },
  {
   "cell_type": "code",
   "execution_count": 31,
   "id": "94e146cb-3a15-42fd-a7a9-ce1071fe7fdb",
   "metadata": {},
   "outputs": [],
   "source": [
    "# try:\n",
    "#     cur.close()\n",
    "# except psycopg2.Error as e:\n",
    "#     print(e)\n",
    "try:\n",
    "    conn = psycopg2.connect(\"host=127.0.0.1 dbname=myfirstdb user=postgres password=password\")\n",
    "except psycopg2.Error as e:\n",
    "    print(\"Error: could not make connection to the postgres database\")\n",
    "    print(e)\n",
    "try:\n",
    "    cur = conn.cursor()\n",
    "except psycopg2.Error as e:\n",
    "    print(\"Error: could not get curser to the database\")\n",
    "    print(e)\n",
    "conn.set_session(autocommit=True) "
   ]
  },
  {
   "cell_type": "code",
   "execution_count": 32,
   "id": "b0b52155-74e7-451d-ba4b-dc3e5d1b91e4",
   "metadata": {},
   "outputs": [],
   "source": [
    "try:\n",
    "    cur.execute(\"CREATE TABLE IF NOT EXISTS students (student_id int, name varchar,\\\n",
    "    age int, gender varchar, subject varchar, marks int);\")\n",
    "except psycopg2.Error as e:\n",
    "    print(\"Error: Issue creating table\")\n",
    "    print(e)"
   ]
  },
  {
   "cell_type": "code",
   "execution_count": 33,
   "id": "2ad2af14-98d9-46f6-9ee9-2e6a274cc45d",
   "metadata": {},
   "outputs": [],
   "source": [
    "try:\n",
    "    cur.execute(\"INSERT INTO students (student_id, name, age , gender , subject , marks ) values (1,'Raj',23,'Male','Developer',89),(2,'Suraj',22,'Male','Tester',78);\")\n",
    "except psycopg2.Error as e:\n",
    "    print(\"Error: Issue Inserting data\")\n",
    "    print(e)"
   ]
  },
  {
   "cell_type": "code",
   "execution_count": 34,
   "id": "c7cc4c13-0734-45e0-a01c-1e346f425439",
   "metadata": {},
   "outputs": [
    {
     "name": "stdout",
     "output_type": "stream",
     "text": [
      "(1, 'Raj', 23, 'Male', 'Developer', 89)\n",
      "(2, 'Suraj', 22, 'Male', 'Tester', 78)\n",
      "(1, 'Raj', 23, 'Male', 'Developer', 89)\n",
      "(2, 'Suraj', 22, 'Male', 'Tester', 78)\n",
      "(1, 'Raj', 23, 'Male', 'Developer', 89)\n",
      "(2, 'Suraj', 22, 'Male', 'Tester', 78)\n"
     ]
    }
   ],
   "source": [
    " try:\n",
    "    cur.execute(\"select * from students;\")\n",
    "except psycopg2.Error as e:\n",
    "    print(\"Error: select *\")\n",
    "    print(e)\n",
    "\n",
    "row = cur.fetchone()\n",
    "while row:\n",
    "    print(row)\n",
    "    row = cur.fetchone()"
   ]
  },
  {
   "cell_type": "code",
   "execution_count": 35,
   "id": "8776ddd9-ad53-4bf7-8277-e400bd4742e1",
   "metadata": {},
   "outputs": [],
   "source": [
    "try:\n",
    "    cur.close()\n",
    "    conn.close()\n",
    "except psycopg2.Error as e:\n",
    "    print(\"Error: could not get curser to the database\")\n",
    "    print(e)"
   ]
  },
  {
   "cell_type": "code",
   "execution_count": null,
   "id": "34f5458a-99ea-4aea-8c24-9ba24d1635bf",
   "metadata": {},
   "outputs": [],
   "source": []
  }
 ],
 "metadata": {
  "kernelspec": {
   "display_name": "Python 3 (ipykernel)",
   "language": "python",
   "name": "python3"
  },
  "language_info": {
   "codemirror_mode": {
    "name": "ipython",
    "version": 3
   },
   "file_extension": ".py",
   "mimetype": "text/x-python",
   "name": "python",
   "nbconvert_exporter": "python",
   "pygments_lexer": "ipython3",
   "version": "3.12.3"
  }
 },
 "nbformat": 4,
 "nbformat_minor": 5
}
